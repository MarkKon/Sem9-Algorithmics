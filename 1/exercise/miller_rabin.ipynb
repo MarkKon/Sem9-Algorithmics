{
 "cells": [
  {
   "cell_type": "code",
   "execution_count": null,
   "metadata": {},
   "outputs": [],
   "source": [
    "import math"
   ]
  },
  {
   "cell_type": "code",
   "execution_count": 3,
   "metadata": {},
   "outputs": [],
   "source": [
    "from numpy import flip\n",
    "\n",
    "\n",
    "a = 11\n",
    "n = 161\n",
    "b = flip([1,0,1,0,0,0,0,0])"
   ]
  },
  {
   "cell_type": "code",
   "execution_count": 5,
   "metadata": {},
   "outputs": [
    {
     "name": "stdout",
     "output_type": "stream",
     "text": [
      "Iteration with i =  7\n",
      "result =  1\n",
      "As b_i = 1, result =  11\n",
      "Iteration with i =  6\n",
      "result =  121\n",
      "Iteration with i =  5\n",
      "result =  151\n",
      "As b_i = 1, result =  51\n",
      "Iteration with i =  4\n",
      "result =  25\n",
      "Iteration with i =  3\n",
      "result =  142\n",
      "Iteration with i =  2\n",
      "result =  39\n",
      "Iteration with i =  1\n",
      "result =  72\n",
      "Iteration with i =  0\n",
      "result =  32\n",
      "32\n"
     ]
    }
   ],
   "source": [
    "result = 1\n",
    "for i in [7,6,5,4,3,2,1,0]:\n",
    "  print(\"Iteration with i = \", i)\n",
    "  result = (result*result)%n\n",
    "  print(\"result = \", result)\n",
    "  if b[i] == 1:\n",
    "    result = (result*a) % n\n",
    "    print(\"As b_i = 1, result = \", result)\n",
    "print(result)\n"
   ]
  },
  {
   "cell_type": "code",
   "execution_count": null,
   "metadata": {},
   "outputs": [],
   "source": []
  }
 ],
 "metadata": {
  "kernelspec": {
   "display_name": "Python 3.8.3 ('base')",
   "language": "python",
   "name": "python3"
  },
  "language_info": {
   "codemirror_mode": {
    "name": "ipython",
    "version": 3
   },
   "file_extension": ".py",
   "mimetype": "text/x-python",
   "name": "python",
   "nbconvert_exporter": "python",
   "pygments_lexer": "ipython3",
   "version": "3.8.3"
  },
  "orig_nbformat": 4,
  "vscode": {
   "interpreter": {
    "hash": "ad2bdc8ecc057115af97d19610ffacc2b4e99fae6737bb82f5d7fb13d2f2c186"
   }
  }
 },
 "nbformat": 4,
 "nbformat_minor": 2
}
