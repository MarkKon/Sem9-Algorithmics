{
 "cells": [
  {
   "cell_type": "code",
   "execution_count": 1,
   "metadata": {},
   "outputs": [],
   "source": [
    "import numpy as np\n",
    "import matplotlib as plt\n",
    "from a_star import DirectedGraph"
   ]
  },
  {
   "cell_type": "code",
   "execution_count": 2,
   "metadata": {},
   "outputs": [
    {
     "name": "stdout",
     "output_type": "stream",
     "text": [
      "Start heap:  [(0, 's')]\n",
      "coming from  s\n",
      "to  d\n",
      "the heap is now:  [(10, 'd')]\n",
      "coming from  s\n",
      "to  a\n",
      "the heap is now:  [(5, 'a'), (10, 'd')]\n",
      "coming from  a\n",
      "to  b\n",
      "the heap is now:  [(5, 'b'), (10, 'd')]\n",
      "coming from  b\n",
      "to  c\n",
      "the heap is now:  [(10, 'd'), (12, 'c')]\n",
      "coming from  b\n",
      "to  t\n",
      "the heap is now:  [(10, 'd'), (12, 'c'), (13, 't')]\n",
      "coming from  d\n",
      "to  c\n",
      "the heap is now:  [(11, 'c'), (13, 't'), (12, 'c')]\n",
      "coming from  c\n",
      "to  t\n",
      "the heap is now:  [(11, 't'), (13, 't'), (12, 'c')]\n",
      "Found path with cost 11\n",
      "Final f_score dictionary {'s': 10, 'd': 10, 'a': 5, 'b': 5, 'c': 11, 't': 11}\n"
     ]
    },
    {
     "data": {
      "text/plain": [
       "['t']"
      ]
     },
     "execution_count": 2,
     "metadata": {},
     "output_type": "execute_result"
    }
   ],
   "source": [
    "G = DirectedGraph(\n",
    "  ['s', 'a', 'b', 'c', 'd', 't'], \n",
    "  [('s', 'd',3), ('s', 'a', 2), ('a', 'b', 1), ('a', 'd', 1), ('b', 'c', 8), ('c', 't', 1), ('d', 'b', 2), ('d', 'c', 7), ('b', 't', 10)]\n",
    "  )\n",
    "G.astar('s', 't', \n",
    "  {\n",
    "    's': 10, 'a': 3, 'b': 2, 'c': 1, 'd': 7, 't': 0\n",
    "  })"
   ]
  },
  {
   "cell_type": "code",
   "execution_count": null,
   "metadata": {},
   "outputs": [],
   "source": []
  }
 ],
 "metadata": {
  "kernelspec": {
   "display_name": "Python 3.8.3 ('base')",
   "language": "python",
   "name": "python3"
  },
  "language_info": {
   "codemirror_mode": {
    "name": "ipython",
    "version": 3
   },
   "file_extension": ".py",
   "mimetype": "text/x-python",
   "name": "python",
   "nbconvert_exporter": "python",
   "pygments_lexer": "ipython3",
   "version": "3.8.3"
  },
  "orig_nbformat": 4,
  "vscode": {
   "interpreter": {
    "hash": "ad2bdc8ecc057115af97d19610ffacc2b4e99fae6737bb82f5d7fb13d2f2c186"
   }
  }
 },
 "nbformat": 4,
 "nbformat_minor": 2
}
