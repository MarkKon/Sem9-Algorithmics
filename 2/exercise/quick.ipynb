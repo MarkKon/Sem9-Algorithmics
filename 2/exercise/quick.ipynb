{
 "cells": [
  {
   "cell_type": "code",
   "execution_count": 1,
   "metadata": {},
   "outputs": [],
   "source": [
    "import numpy as np"
   ]
  },
  {
   "cell_type": "code",
   "execution_count": 11,
   "metadata": {},
   "outputs": [
    {
     "name": "stdout",
     "output_type": "stream",
     "text": [
      "[[0.86 8.22 8.52 0.15]\n",
      " [6.29 0.68 3.85 6.25]\n",
      " [6.02 6.26 3.24 5.51]\n",
      " [6.28 4.9  6.54 0.38]]\n",
      "[17.75 17.07 21.03 18.1 ]\n",
      "[19.45 20.06 22.15 12.29]\n"
     ]
    }
   ],
   "source": [
    "A = np.random.random(size = (4,4))*10\n",
    "A = np.round(A, 2)\n",
    "s = np.sum(A, axis = 1)\n",
    "r = np.sum(A, axis = 0)\n",
    "print(A)\n",
    "print(s)\n",
    "print(r)\n"
   ]
  },
  {
   "cell_type": "code",
   "execution_count": 12,
   "metadata": {},
   "outputs": [
    {
     "data": {
      "text/plain": [
       "39.51"
      ]
     },
     "execution_count": 12,
     "metadata": {},
     "output_type": "execute_result"
    }
   ],
   "source": [
    "19.45 + 20.06 "
   ]
  },
  {
   "cell_type": "code",
   "execution_count": 31,
   "metadata": {},
   "outputs": [
    {
     "name": "stdout",
     "output_type": "stream",
     "text": [
      "[  0   0   4 -10  -4  21  -4 -10   4   0   0]\n",
      "81.0\n",
      "57.0\n"
     ]
    }
   ],
   "source": [
    "\n",
    "a = [0,-2,3,2,-2, 0]\n",
    "b = np.conjugate(np.flip(a))\n",
    "print(np.convolve(a, b))\n",
    "print(np.linalg.norm(a, ord = 1)**2)\n",
    "print(np.linalg.norm(np.convolve(a, b), ord = 1))"
   ]
  },
  {
   "cell_type": "code",
   "execution_count": 14,
   "metadata": {},
   "outputs": [
    {
     "data": {
      "text/plain": [
       "array([0, 0, 0, 0, 1, 0, 0, 0, 0])"
      ]
     },
     "execution_count": 14,
     "metadata": {},
     "output_type": "execute_result"
    }
   ],
   "source": [
    "np.convolve([0,0,0,1,0], [0,1,0,0,0])"
   ]
  },
  {
   "cell_type": "code",
   "execution_count": 17,
   "metadata": {},
   "outputs": [
    {
     "data": {
      "text/plain": [
       "6.25"
      ]
     },
     "execution_count": 17,
     "metadata": {},
     "output_type": "execute_result"
    }
   ],
   "source": [
    "(5/2)**2"
   ]
  },
  {
   "cell_type": "code",
   "execution_count": null,
   "metadata": {},
   "outputs": [],
   "source": []
  }
 ],
 "metadata": {
  "kernelspec": {
   "display_name": "Python 3.8.3 ('base')",
   "language": "python",
   "name": "python3"
  },
  "language_info": {
   "codemirror_mode": {
    "name": "ipython",
    "version": 3
   },
   "file_extension": ".py",
   "mimetype": "text/x-python",
   "name": "python",
   "nbconvert_exporter": "python",
   "pygments_lexer": "ipython3",
   "version": "3.8.3"
  },
  "orig_nbformat": 4,
  "vscode": {
   "interpreter": {
    "hash": "ad2bdc8ecc057115af97d19610ffacc2b4e99fae6737bb82f5d7fb13d2f2c186"
   }
  }
 },
 "nbformat": 4,
 "nbformat_minor": 2
}
